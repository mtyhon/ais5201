{
 "cells": [
  {
   "cell_type": "markdown",
   "id": "747d7994-b9c7-408d-a49c-af5d8dae2ce9",
   "metadata": {
    "slideshow": {
     "slide_type": ""
    },
    "tags": []
   },
   "source": [
    "(content:references:tabular_part5)=\n",
    "# *The Physics Informed Neural Network*\n",
    "\n",
    "***Author: Marc Hon (mtyhon@nus.edu.sg), Earl Patrick Bellinger (earl.bellinger@yale.edu)***\n",
    "\n",
    "Physics-Informed Neural Networks (PINNs) are neural networks that solves or approximates solutions to physical systems governed by differential equations, using prior physical knowledge (e.g., conservation laws, PDEs, ODEs) encoded **directly** into the loss function during training.\n",
    "\n",
    "Rather than being purely data-driven like classical machine learning, PINNs are directly constrained to produce outputs consistent with physics.\n",
    "\n",
    "## Formulation\n",
    "\n",
    "A Physics-Informed Neural Network solves problems where the solution $ u $ must satisfy a differential equation of the form:\n",
    "\n",
    "$$\n",
    "\\mathcal{F}\\!\\left(u(\\boldsymbol{\\xi}); \\boldsymbol{\\xi} \\right) = 0,\n",
    "$$\n",
    "\n",
    "where:\n",
    "- $ \\boldsymbol{\\xi} \\in \\mathbb{R}^d $ denotes the independent variables (e.g., radius $r$, time $t$, orbital phase $\\phi$, or frequency $\\nu$),\n",
    "- $ u(\\boldsymbol{\\xi}) $ is the unknown function to approximate,\n",
    "- $ \\mathcal{F} $ is a differential operator encoding the governing physical laws.\n",
    "\n",
    "A neural network $ u_\\theta(\\boldsymbol{\\xi}) $ with parameters $\\theta$ is trained to minimize a composite loss involving the following:\n",
    "\n",
    "\n",
    "**Data Loss** (fitting observations):\n",
    "\n",
    "\n",
    ">$$\n",
    "\\mathcal{L}_{\\text{data}} = \\frac{1}{N} \\sum_{i=1}^{N} \n",
    "\\big( u_\\theta(\\boldsymbol{\\xi}_i) - u_i^{\\text{obs}} \\big)^2\n",
    "$$\n",
    "\n",
    "**Physics Loss** (enforcing the governing equations):\n",
    "\n",
    "\n",
    ">$$\n",
    "\\mathcal{L}_{\\text{physics}} = \\frac{1}{M} \\sum_{j=1}^{M}\n",
    "\\left( \\mathcal{F}\\!\\left(u_\\theta; \\boldsymbol{\\xi}_j\\right) \\right)^2\n",
    "$$\n",
    "\n",
    "Many physical systems also require **Boundary or Initial Conditions** at a boundary  $ \\partial \\Omega $ in addition to the governing equations:\n",
    "\n",
    "$$\n",
    "\\mathcal{B}\\!\\left(u(\\boldsymbol{\\xi})\\right) = 0,\n",
    "\\qquad \\boldsymbol{\\xi} \\in \\partial \\Omega, \n",
    "$$\n",
    "\n",
    "such that\n",
    "\n",
    ">$$\n",
    "\\mathcal{L}_{\\text{bc}} =\n",
    "\\frac{1}{K} \\sum_{k=1}^{K}\n",
    "\\left( \\mathcal{B}(u_\\theta; \\boldsymbol{\\xi}_k) \\right)^2\n",
    "$$\n",
    "\n",
    "\n",
    "Putting it altogether, we have\n",
    "\n",
    "\n",
    ">$$\n",
    "\\mathcal{L}(\\theta) = \n",
    "\\mathcal{L}_{\\text{data}} + \\lambda_{\\text{phys}} \\,\\mathcal{L}_{\\text{physics}} + \\lambda_{\\text{bc}} \\,\\mathcal{L}_{\\text{bc}},\n",
    "$$\n",
    "\n",
    "\n",
    "Here:\n",
    "- $ \\{ (\\boldsymbol{\\xi}_i, u_i^{\\text{obs}}) \\} $ are observation points,\n",
    "- $ \\{ \\boldsymbol{\\xi}_j \\} $ are collocation points (chosen freely within the domain),\n",
    "- $ \\lambda_{\\text{phys}} $ and $\\lambda_{\\text{bc}}$ are weighting parameters balancing data fidelity and physical consistency for the physics and boundary loss, respectively.\n",
    "\n",
    "Here, **automatic differentiation** will be used to obtain the derivatives required in $\\mathcal{F}$.\n",
    "\n",
    "\n",
    "## Example: The Lane-Emden Equation\n",
    "\n",
    "The Lane-Emden equation is a simplified model for the internal structure of the star, taking the form of\n",
    "\n",
    "```{math}\n",
    ":label: eq-lane-emden\n",
    "\\frac{1}{\\xi^2} \\frac{d}{d\\xi} \\left( \\xi^2 \\frac{d\\theta}{d\\xi} \\right) + \\theta^n = 0\n",
    "```\n",
    "\n",
    "with the following **boundary conditions**:\n",
    "\n",
    "```{math}\n",
    ":label: boundary-lane-emden\n",
    "\\begin{align}\n",
    "\\theta &= 1 \\quad \\text{for} \\quad \\xi = 0 \\\\\n",
    "d\\theta/d\\xi &= 0 \\quad \\text{for} \\quad \\xi = 0,\n",
    "\\end{align}\n",
    "```\n",
    "\n",
    "where the surface of the star is defined as $\\xi_1$, where\n",
    "\n",
    "$$\n",
    "\\begin{align}\n",
    "\\theta &= 0 \\quad \\text{for} \\quad \\xi = \\xi_1.\n",
    "\\end{align}\n",
    "$$\n",
    "\n",
    "```{admonition} Physical Interpretation\n",
    ":class: tip\n",
    "The structures of stars are governed by the equations of stellar structure, The pressure $P$ and density $\\rho$ in the interiors of stars are governed by the following ODEs in particular:\n",
    "\n",
    "$$\n",
    "\\begin{align}\n",
    "\\frac{dP}{dm} &= -\\frac{Gm}{4\\pi r^4} \\quad \\text{(hydrostatic equilibrium)}\\\\\n",
    "\\frac{dr}{dm} &= -\\frac{1}{4\\pi r^2 \\rho} \\quad \\text{(mass continuity)},\n",
    "\\end{align}\n",
    "$$\n",
    "\n",
    "where $m$ is the mass enclosed inside a shell of radius $r$ within the star, and $G$ is the gravitational constant.\n",
    "\n",
    "The above equations can be solved in the case where $\\rho$ can be expressed as a function of $P$ in the following form:\n",
    "\n",
    "$$\n",
    "P = K\\rho^{(1 + \\frac{1}{n})},\n",
    "$$\n",
    "\n",
    "which are known as **polytropic models**, with $n$ known as the *polytropic index*. Here, we introduce the dimensionless values\n",
    "\n",
    "$$\n",
    "\\begin{align}\n",
    "\\rho(r) &= \\rho_c \\theta^n (r) \\\\\n",
    "r &= \\alpha\\xi, \\quad \\text{where} \\quad \\alpha^2 = \\frac{(n+1)K\\rho_c^{1/n - 1}}{4\\pi G},\n",
    "\\end{align}\n",
    "$$\n",
    "\n",
    "with $\\rho_c$ being the central density of the star. The boundary conditions naturally arise from these parameterizations of $\\rho$ and $r$ into $\\theta$ and $\\xi$, respectively.\n",
    "\n",
    "Polytropes are widely used as simplified models of stellar and planetary interiors:\n",
    "\n",
    "- **$n = 0$**: Constant density (incompressible), first-order model for rocky planets.\n",
    "\n",
    "- **$n \\approx 0.5 – 1$**:  Models for neutron stars.\n",
    "\n",
    "- **$n = 1.5$**:  Fully convective stars like brown dwarfs and gas giant planets, low-mass white dwarfs.\n",
    "\n",
    "- **$n = 3$**: Massive white dwarfs, main-sequence stars in their radiation zone.\n",
    "\n",
    "- **$n = 5$**: Infinite radius.\n",
    "\n",
    "```\n",
    "\n",
    "### Generating Lane-Emden Equations\n",
    "\n",
    "We want to solve the Lane-Emden Equation for a given polytropic index $n$. Analytical solutions exists for $n=1,3,5$, but for the other cases numerical integration is required. In the following, we will create a function that uses the **predictor–corrector method** for numerically solving the Lane–Emden equations at logarithmically-spaced co-location points $\\xi$."
   ]
  },
  {
   "cell_type": "code",
   "execution_count": 125,
   "id": "9ebbf90e-6613-423a-9840-8e835b08063f",
   "metadata": {
    "slideshow": {
     "slide_type": ""
    },
    "tags": [
     "hide-input"
    ]
   },
   "outputs": [],
   "source": [
    "import os, re\n",
    "import scienceplots\n",
    "import numpy as np\n",
    "import pandas as pd\n",
    "import seaborn as sns\n",
    "import astropy.units as u\n",
    "import matplotlib as mpl\n",
    "import matplotlib.pyplot as plt\n",
    "import matplotlib.ticker as mticker\n",
    "import matplotlib.colors as mcolors\n",
    "import torch\n",
    "import torch.nn as nn\n",
    "import torch.optim as optim\n",
    "import torch.nn.functional as F\n",
    "import torch.nn.utils as nn_utils\n",
    "import torch.nn.init as init\n",
    "\n",
    "from pathlib import Path\n",
    "from astropy.io import fits\n",
    "from matplotlib import cm\n",
    "from matplotlib.cm import ScalarMappable\n",
    "from matplotlib.colors import Normalize, ListedColormap, BoundaryNorm\n",
    "from mpl_toolkits.axes_grid1.inset_locator import inset_axes, mark_inset\n",
    "from torch.utils import data\n",
    "from torch.func import functional_call, vmap, grad\n",
    "from tqdm.notebook import trange, tqdm\n",
    "\n",
    "plt.style.use('science'); fs=15\n",
    "plt.rcParams['text.usetex'] = False\n",
    "\n",
    "DTYPE = torch.float64\n",
    "\n",
    "torch.set_default_dtype(torch.float64)\n",
    "\n",
    "data_folder_path = Path.cwd().resolve().parent.parent / 'ml_astro' / 'chapter3' / 'data'"
   ]
  },
  {
   "cell_type": "code",
   "execution_count": 113,
   "id": "c62d3266-4c90-46e8-ba36-c7a2168f5795",
   "metadata": {
    "slideshow": {
     "slide_type": ""
    },
    "tags": []
   },
   "outputs": [],
   "source": [
    "def solveLaneEmden(log_delta_xi, n, terminate = 'firstzero'):\n",
    "\n",
    "    delta_xi = 10**log_delta_xi\n",
    "\n",
    "    # Inner boundary condition\n",
    "    y0 = 1 - delta_xi**2/6\n",
    "    z0 = -delta_xi**3/3\n",
    "\n",
    "    ys  = [y0]\n",
    "    zs  = [z0]\n",
    "    xis = [delta_xi]\n",
    "    ycs = [y0]\n",
    "    zcs = [z0]\n",
    "    \n",
    "    while True:\n",
    "        y  =  ys[len(ys)  - 1]\n",
    "        z  =  zs[len(zs)  - 1]\n",
    "        xi = xis[len(xis) - 1]\n",
    "        yc = ycs[len(ycs) - 1]\n",
    "        zc = zcs[len(zcs) - 1]\n",
    "\n",
    "        ## Primitive method\n",
    "        yi = y + delta_xi * z/xi**2\n",
    "        zi = z + delta_xi * -xi**2*y**n\n",
    "\n",
    "        ## Predictor-corrector technique\n",
    "        xii = xi + delta_xi\n",
    "        yci = yc + 1/2 * delta_xi * (z/xi**2 + zi/xii**2)\n",
    "        zci = zc + 1/2 * delta_xi * (-xi**2*y**n - xi**2*yi**n)\n",
    "\n",
    "        if terminate == 'firstzero':  \n",
    "            if (yci < 1e-10): break # Two conditions for generation, one to the first zero in theta\n",
    "        else: \n",
    "            if xii > 10: break # Another for a fixed coordinate xi\n",
    "\n",
    "        xis += [xii]\n",
    "        ys  += [yi]\n",
    "        zs  += [zi]\n",
    "        ycs += [yci]\n",
    "        zcs += [zci]\n",
    "\n",
    "    return (xis, ys)"
   ]
  },
  {
   "cell_type": "code",
   "execution_count": 93,
   "id": "52cddd52-c236-4316-a5b2-7e6f02193967",
   "metadata": {
    "slideshow": {
     "slide_type": ""
    },
    "tags": [
     "hide-input"
    ]
   },
   "outputs": [
    {
     "data": {
      "image/png": "[encoded data removed]",
      "text/plain": [
       "<Figure size 700x400 with 1 Axes>"
      ]
     },
     "metadata": {},
     "output_type": "display_data"
    }
   ],
   "source": [
    "fig = plt.figure(figsize=(7,4))\n",
    "ax1 = fig.add_subplot(111)\n",
    "for n in [1,2,3]:\n",
    "    xs, ys = solveLaneEmden(log_delta_xi=-2, n=n)\n",
    "    ax1.plot(xs, np.array(ys), label = f'n={n}')\n",
    "\n",
    "ax1.set_xlabel(r'$\\xi$', fontsize=fs-3)\n",
    "ax1.set_ylabel(r'$\\theta$', fontsize=fs-3)\n",
    "ax1.grid()\n",
    "ax1.legend(loc='upper right', prop={'size': fs-3}, frameon=True,framealpha=1)\n",
    "ax1.set_title('Lane-Emden Equation', fontsize=fs)\n",
    "ax1.axhline(y=0, c='k', ls='--'); plt.show()"
   ]
  },
  {
   "cell_type": "markdown",
   "id": "1945fb19-9fd6-426a-b5ac-31e5260e33a8",
   "metadata": {
    "slideshow": {
     "slide_type": ""
    },
    "tags": []
   },
   "source": [
    "```{admonition} Lane–Emden as a First-Order System\n",
    ":class: note\n",
    "\n",
    "To make the numerical integration easier, the function `solveLaneEmden` introduces auxiliary variables:\n",
    "\n",
    "$$\n",
    "z(\\xi) \\;=\\; \\xi^2 \\frac{d\\theta}{d\\xi}, \\quad \\quad \\quad y = \\theta.\n",
    "$$\n",
    "\n",
    "This converts the second-order Lane-Emden equation into a system of **two coupled first-order ODEs**:\n",
    "\n",
    "$$\n",
    "\\frac{dy}{d\\xi} = \\frac{z}{\\xi^2}, \n",
    "\\qquad \n",
    "\\frac{dz}{d\\xi} = -\\xi^2 y^n .\n",
    "$$\n",
    "\n",
    "This formulation avoids the singular form of the second derivative at $\\xi = 0$ and performs reasonably with stepwise numerical methods such as the predictor–corrector scheme as performed by the `solveLaneEmden` function.\n",
    "\n",
    "```\n",
    "\n",
    "```{admonition} Debugging your Physics Equation\n",
    ":class: danger\n",
    "\n",
    "What happens when a non-integer $n$ (e.g., $n=1.5$) is used to solve the above equation using `solveLaneEmden`? Take note of any warning outputs from the Python interpreter, and log any intermediate outputs from the numerical solver. Why does the warning occur, and how does this affect the output solution?\n",
    "\n",
    "```\n",
    "\n",
    "\n",
    "\n",
    "## Training the PINN\n",
    "\n",
    "We will use the Lane-Emden equation as an illustrative example for training a PINN using **only a physics loss**.\n",
    "\n",
    "### Setting up a Generator\n",
    "we first need to set up a generator that will feed in grids of $\\xi$ to the PINN. Compared to the plots above, we will generate up to a fixed $\\xi$, instead of up to the first zero in $\\theta$."
   ]
  },
  {
   "cell_type": "code",
   "execution_count": 114,
   "id": "5cbc229c-2cd7-45b3-b469-0b18d5591d12",
   "metadata": {
    "slideshow": {
     "slide_type": ""
    },
    "tags": []
   },
   "outputs": [],
   "source": [
    "class LaneEmdenGenerator(data.Dataset):\n",
    "    def __init__(self, solver, log_delta_xi=-2, n = 3, batch_size = 8,\n",
    "                 generations_per_epoch = 128, terminate = None,\n",
    "                 device = 'cuda'):\n",
    "\n",
    "        self.log_delta_xi = log_delta_xi # Logarithmic spacing of xi in the grid\n",
    "        self.solver = solver\n",
    "        self.n = n\n",
    "        self.terminate = terminate\n",
    "        self.batch_size = batch_size  # How many grids per batch\n",
    "        self.device = device\n",
    "        self.generations_per_epoch = 128   # How many batches per epoch\n",
    "\n",
    "    def __getitem__(self, index):\n",
    "        xisvec, ycsvec, ennevec = [], [], []\n",
    "\n",
    "        for i in range(self.batch_size):\n",
    "            xis, ycs = self.solver(self.log_delta_xi, self.n, self.terminate)\n",
    "            xis, ycs = np.array(xis), np.array(np.real(ycs))\n",
    "            \n",
    "            xisvec.append(np.array(xis))\n",
    "            ycsvec.append( np.array(np.real(ycs)))\n",
    "            ennevec.append(np.ones_like(xis)*self.n)\n",
    "\n",
    "        tuple_set = np.vstack(( np.concatenate(ennevec), np.concatenate(ycsvec), np.concatenate(xisvec) )).T\n",
    "        tuple_set = tuple_set[~np.isnan(tuple_set[:,1])]\n",
    "            \n",
    "        return torch.tensor(tuple_set, dtype=DTYPE).to(self.device)\n",
    "\n",
    "    def __len__(self):\n",
    "        return self.generations_per_epoch"
   ]
  },
  {
   "cell_type": "markdown",
   "id": "64b619e5-6fea-40bc-a3fd-13cd75c6d884",
   "metadata": {
    "slideshow": {
     "slide_type": ""
    },
    "tags": []
   },
   "source": [
    "The generator `LaneEmdenGenerator` returns a $N \\times 3$ vector comprising the following:\n",
    "\n",
    "- An $N \\times 1$ array of polytropic indices $n$, fixed for the problem.\n",
    "- An $N \\times 1$ array of $\\theta$ values. These will **not** be explicitly used to solve the PINN in this example.\n",
    "- An $N \\times 1$ array of $\\xi$ values, as co-location (grid) points.\n",
    "\n",
    "### Defining the Networks"
   ]
  },
  {
   "cell_type": "code",
   "execution_count": 118,
   "id": "c2f16270-4ace-4ec5-8fe1-8d7dca4b4551",
   "metadata": {
    "slideshow": {
     "slide_type": ""
    },
    "tags": []
   },
   "outputs": [],
   "source": [
    "class MLP(nn.Module):\n",
    "\n",
    "    #### A simple multi-layer perceptron ###\n",
    "    \n",
    "    def __init__(self, layers, activation=nn.SiLU()):\n",
    "        super(MLP, self).__init__()\n",
    "        self.layers = nn.ModuleList()\n",
    "\n",
    "        for i in range(len(layers) - 1):\n",
    "            linear_layer = nn.Linear(layers[i], layers[i + 1])\n",
    "            init.xavier_uniform_(linear_layer.weight) # Glorot Uniform initialization\n",
    "            init.constant_(linear_layer.bias, 0.0)\n",
    "            self.layers.append(linear_layer)\n",
    "        self.activation = activation\n",
    "\n",
    "    def forward(self, x):\n",
    "        for i, layer in enumerate(self.layers[:-1]):\n",
    "            x = layer(x)\n",
    "            x = self.activation(x)\n",
    "        return self.layers[-1](x)\n",
    "\n",
    "\n",
    "class NN_Model(nn.Module):\n",
    "    def __init__(self, branch_layers, trunk_layers, device='cuda'):\n",
    "        super(NN_Model, self).__init__()\n",
    "        \n",
    "        self.branch_net = MLP(branch_layers, activation=nn.SiLU()).to(device)\n",
    "        self.trunk_net = MLP(trunk_layers, activation=nn.SiLU()).to(device)\n",
    "        self.device = device\n",
    "\n",
    "        self.optimizer = optim.AdamW(self.parameters(), lr=5e-4)\n",
    "        self.scheduler = optim.lr_scheduler.ExponentialLR(self.optimizer, gamma=1-1.25e-5)\n",
    "\n",
    "        self.loss_log = []\n",
    "        self.loss_operator_log = []\n",
    "        self.loss_physics_log = []\n",
    "\n",
    "    def forward(self, u, y, single=False):\n",
    "\n",
    "        ## Use single = True in the scenario you need evaluation at a single colocation point (e.g., at boundaries)\n",
    "        \n",
    "        if single:\n",
    "            u = u.unsqueeze(0)\n",
    "            y = y.unsqueeze(0)\n",
    "        B = self.branch_net(u)\n",
    "        T = self.trunk_net(y)\n",
    "        if single:\n",
    "            outputs = torch.dot(B.squeeze(), T.squeeze())\n",
    "        else:\n",
    "            outputs = torch.sum(B * T, dim=1, keepdim=True)\n",
    "        return outputs"
   ]
  },
  {
   "cell_type": "markdown",
   "id": "d5def944-39f4-4695-bd2b-6bc670917c9e",
   "metadata": {
    "slideshow": {
     "slide_type": ""
    },
    "tags": []
   },
   "source": [
    "```{figure} images/deeponet.png\n",
    "---\n",
    "height: 370px\n",
    "width: 500px\n",
    "name: deeponet\n",
    "---\n",
    "Schematic of a Deep Operator Network (DeepONet).\n",
    "\n",
    "```\n",
    "\n",
    "In this example, the type of network we will use is inspired by Deep Operator Networks [(DeepONets)](https://arxiv.org/abs/1910.0319). A DeepONet learns a mapping from a function input $u$ to a predicted function value at location $y$. It comprises two components:\n",
    "\n",
    "- **Branch Net $B(u)$:** Encodes information about the input function $u$. In our Lane-Emden equation, $u=n$.\n",
    "\n",
    "- **Trunk Net $T(y)$:** Encodes information about the coordinate or location $y$. In our Lane-Emden equation, $y=\\xi$\n",
    "\n",
    "Both Branch and Trunk nets are Multilayer Perceptrons.\n",
    "\n",
    "The final prediction is given by the inner product\n",
    "\n",
    "$$\n",
    "\\hat{f}(u,y) \\;=\\; \\sum_{j=1}^{p} B_j(u)\\,T_j(y),\n",
    "$$\n",
    "\n",
    "i.e., a weighted combination of branch and trunk features.\n",
    "\n",
    "```{admonition} Why a DeepONet?\n",
    ":class: tip\n",
    "\n",
    "Unlike a standard MLP, which directly maps $(u,y) \\mapsto f(u,y)$, a DeepONet factorizes the prediction:\n",
    "\n",
    "$$\n",
    "\\hat{f}(u,y) \\;=\\; \\sum_{j=1}^{p} B_j(u)\\,T_j(y),\n",
    "$$\n",
    "\n",
    "where:\n",
    "- $B(u)$ encodes the input function (branch net),\n",
    "- $T(y)$ encodes the evaluation coordinate (trunk net).\n",
    "\n",
    "Once trained, the model can evaluate $f(u,y)$ at **new values of $y$**, even if they were not explicitly included in the training set.  \n",
    "In other words, DeepONets generalize across the domain of $y$, turning the network into an **operator approximator** rather than a pointwise regressor.\n",
    "```\n",
    "\n",
    "### Losses -- Physics Constraint\n",
    "\n",
    "Next, we will define functions corresponding to equations {eq}`eq-lane-emden`."
   ]
  },
  {
   "cell_type": "code",
   "execution_count": 137,
   "id": "77d83433-01b3-4309-91a1-ad55fc4c3b93",
   "metadata": {
    "slideshow": {
     "slide_type": ""
    },
    "tags": []
   },
   "outputs": [],
   "source": [
    "def compute_sample_ode_loss(model, n, ξ):\n",
    "    ### Computes the residual of the equation ###\n",
    "    \n",
    "    pred = model.forward(n, ξ, True)\n",
    "    ddξ_ξ2_dθdξ = grad(lambda ξ: (ξ ** 2 * grad(model.forward, argnums=1)(n, ξ, True)).squeeze(), argnums=0)(ξ)  # LHS\n",
    "    ξ2_θn = - ( (ξ ** 2) * (pred ** n )  )  ## RHS\n",
    "    residual = ddξ_ξ2_dθdξ - ξ2_θn\n",
    "    \n",
    "    return residual\n",
    "\n",
    "def compute_ode_loss(model, n, ξ):\n",
    "    n = n.clone().detach().requires_grad_(True)\n",
    "    ξ = ξ.clone().detach().requires_grad_(True)\n",
    "    residuals = vmap(compute_sample_ode_loss, in_dims=(None, 0, 0))(model, n, ξ)\n",
    "    return F.mse_loss(residuals, torch.zeros_like(residuals))"
   ]
  },
  {
   "cell_type": "markdown",
   "id": "f650f388-a3f2-4117-a948-3f8d0ea3d9fd",
   "metadata": {
    "raw_mimetype": "",
    "slideshow": {
     "slide_type": ""
    },
    "tags": []
   },
   "source": [
    "```{admonition} Batched Gradients\n",
    ":class: tip\n",
    "\n",
    "In PINNs, we often need to evaluate PDE residuals at many collocation points.  \n",
    "\n",
    "- **`grad`** computes derivatives of the network output with respect to its inputs.  \n",
    "  Nested calls allow higher-order derivatives (e.g. the second derivative in the Lane–Emden equation).\n",
    "\n",
    "- **`vmap`** vectorizes these gradient calculations across a batch of collocation points, replacing an explicit Python for-loop with an efficient parallel computation.\n",
    "    - `in_dims=(None, 0, 0)` applies to each input argument, i.e., `(model, n, ξ)`. This means `model` is not vectorized, while `n` and `ξ` are vectorized over the first axis.\n",
    "\n",
    "This is in opposition to `torch.autograd.grad` alone, which does not return per-sample gradients in a batch. Therefore, the following code allows the ODE residual for an entire batch of inputs in one pass:\n",
    "```python\n",
    "residuals = vmap(self.compute_sample_ode_loss)(model, n, ξ)\n",
    "```"
   ]
  },
  {
   "cell_type": "markdown",
   "id": "fff41214-bb2e-4914-a53d-38720ccae522",
   "metadata": {
    "slideshow": {
     "slide_type": ""
    },
    "tags": []
   },
   "source": [
    "### Losses -- Boundary Conditions\n",
    "\n",
    "We now define the losses for the boundary conditions as defined in {eq}`boundary-lane-emden`.\n",
    "\n",
    "For the condition of $\\frac{d\\theta}{d\\xi}=0$ for $\\xi=0$, see that:\n",
    "- `compute_sample_innergrad_loss` returns the **gradient** $\\frac{d\\theta}{d\\xi}$.\n",
    "- The MSE loss is calculated with respect to the zero vector (`torch.zeros_like(inner_grad)`)"
   ]
  },
  {
   "cell_type": "code",
   "execution_count": 138,
   "id": "e924b30e-58b3-4192-bd6e-776471a915ae",
   "metadata": {
    "slideshow": {
     "slide_type": ""
    },
    "tags": []
   },
   "outputs": [],
   "source": [
    "### dθdξ(ξ=0) = 0 ###\n",
    "def compute_sample_innergrad_loss(model, n, ξ):\n",
    "    return grad(model.forward, argnums=1)(n, ξ, True)\n",
    "\n",
    "def compute_inner_grad_loss(model, n, ξ):\n",
    "    n = n.clone().detach().requires_grad_(True)\n",
    "    ξ = ξ.clone().detach().requires_grad_(True)*0.  ### ξ=0 \n",
    "    inner_grad = vmap(compute_sample_innergrad_loss, in_dims=(None, 0, 0))(model, n, ξ)\n",
    "    return  F.mse_loss(inner_grad, torch.zeros_like(inner_grad)) ### dθ/dξ=0 "
   ]
  },
  {
   "cell_type": "markdown",
   "id": "27a72c64-7190-4fcc-aeb8-5f2659bf53e1",
   "metadata": {},
   "source": [
    "For the condition of $\\theta=0$ for $\\xi=1$, see that:\n",
    "- `compute_sample_innerbc_loss` returns the **function value** $\\theta$.\n",
    "- The MSE loss is calculated with respect to a vector of ones (`torch.ones_like(inner_bc_pred)`)"
   ]
  },
  {
   "cell_type": "code",
   "execution_count": 139,
   "id": "87c700ed-7411-4e0d-9cc6-d5611a456a11",
   "metadata": {},
   "outputs": [],
   "source": [
    "### θ(ξ=0) = 1 ###\n",
    "def compute_sample_innerbc_loss(model, n, ξ):\n",
    "    pred_at_boundary = model.forward(n, ξ, True)\n",
    "    return pred_at_boundary\n",
    "\n",
    "def compute_inner_bc_loss(model, n, ξ):\n",
    "    n = n.clone().detach().requires_grad_(True)\n",
    "    ξ = ξ.clone().detach().requires_grad_(True)*0.  ### ξ=0 \n",
    "    inner_bc_pred = vmap(compute_sample_innerbc_loss, in_dims=(None, 0, 0))(model, n, ξ)\n",
    "    return  F.mse_loss(inner_bc_pred, torch.ones_like(inner_bc_pred))  ### θ=1 "
   ]
  },
  {
   "cell_type": "markdown",
   "id": "c36f45ab-dd0c-49da-8b9b-8abe3b959c49",
   "metadata": {},
   "source": [
    "### Training Loop\n",
    "\n",
    "Putting it altogether, we have the following for the training step:"
   ]
  },
  {
   "cell_type": "code",
   "execution_count": 140,
   "id": "dfaa5c12-57ec-49df-9298-a114089b733e",
   "metadata": {},
   "outputs": [],
   "source": [
    "def training_step(model, n, ξ):\n",
    "    model.optimizer.zero_grad()\n",
    "    boundary_loss, deriv_loss = 0, 0\n",
    "\n",
    "    ode_loss = compute_ode_loss(model, n, ξ)  # Physics \n",
    "    deriv_loss = compute_inner_grad_loss(model, n, ξ)  # Boundary Condition for Derivative\n",
    "    boundary_loss = compute_inner_bc_loss(model, n, ξ) # Boundary Condition for Value\n",
    "\n",
    "    total_loss = ode_loss + 1e4*boundary_loss + 1e4*deriv_loss  # weighting BC by an arbitrary factor\n",
    "    total_loss.backward()\n",
    "\n",
    "    model.optimizer.step()\n",
    "    model.scheduler.step()\n",
    "    return ode_loss.item(), boundary_loss.item(), deriv_loss.item()"
   ]
  },
  {
   "cell_type": "markdown",
   "id": "87fee444-fde0-4c54-89ee-05a59533a4fa",
   "metadata": {},
   "source": [
    "and the following function `train` for the training loop. A function `visualize_example` is first defined to allow us to keep track of the PINN predictions with those from numerical integration during the training."
   ]
  },
  {
   "cell_type": "code",
   "execution_count": 150,
   "id": "04777cb4-91f3-43e2-8ca9-79df0a7c5bdd",
   "metadata": {},
   "outputs": [],
   "source": [
    "def visualize_example(model, operator_dataloader, iteration):\n",
    "\n",
    "    ### Comparing the Numerical Integration with Predictions from the PINN ###\n",
    "    \n",
    "    xisvec, ycsvec, ennevec = [], [], []\n",
    "    xis, ycs = operator_dataloader.solver(operator_dataloader.log_delta_xi, operator_dataloader.n)\n",
    "    xis, ycs = np.array(xis), np.array(np.real(ycs))\n",
    "\n",
    "    xisvec.append(np.array(xis))\n",
    "    ycsvec.append(np.array(np.real(ycs)))\n",
    "    ennevec.append(np.ones_like(xis)*n)\n",
    "\n",
    "    tuple_set = np.vstack(( np.concatenate(ennevec), np.concatenate(ycsvec), np.concatenate(xisvec) )).T\n",
    "    tuple_set = tuple_set[~np.isnan(tuple_set[:,1])]\n",
    "    tuple_set_tensor = torch.tensor(tuple_set, dtype=DTYPE).to(model.device)\n",
    "\n",
    "    with torch.no_grad():\n",
    "        pred = model.forward(tuple_set_tensor[:,0].unsqueeze(-1), tuple_set_tensor[:,2].unsqueeze(-1) )\n",
    "\n",
    "    fig = plt.figure(figsize=(5,5))\n",
    "    plt.plot(tuple_set[:,2], tuple_set[:,1], label='Manual')\n",
    "    plt.plot(tuple_set_tensor[:,2].data.cpu().numpy(), pred[:].data.cpu().numpy(), c='r', label='PINN')\n",
    "    plt.title(f'n: {n}, Iteration: {iteration}', fontsize=fs-5)\n",
    "    plt.text(x=0.65, y= 0.75, fontsize=fs-5,\n",
    "             s= 'Lane-Emden Eqn.\\n'+r\"$\\frac{1}{\\xi^2} \\frac{d}{d\\xi} \\left( \\xi^2 \\frac{d\\theta}{d\\xi} \\right) + \\theta^n = 0$\" , transform=plt.gca().transAxes)\n",
    "    plt.legend(loc='upper right'); plt.xlabel('ξ', fontsize=fs); plt.ylabel('θ', fontsize=fs-3)\n",
    "    plt.ylim(-0.1, 1.1); plt.tick_params(axis='both', which='major', labelsize=fs-3); plt.axhline(y=0, c='k', ls='--')\n",
    "    plt.show()\n",
    "\n",
    "\n",
    "def train(model, operator_dataloader, nIter = 100):\n",
    "    \n",
    "    for i in range(nIter): #nIter is number of training epochs\n",
    "        boundary_loss_vec = [] \n",
    "        derivative_loss_vec = []\n",
    "        ode_loss_vec = []\n",
    "\n",
    "        print(f'Iteration {i}')\n",
    "        pbar = trange(len(operator_dataloader))\n",
    "        for _, batch in zip(pbar, operator_dataloader):\n",
    "\n",
    "            n_batch, _, ξ_batch = batch[:,0].unsqueeze(-1), _, batch[:,2].unsqueeze(-1)\n",
    "            \n",
    "            ode_loss_value, boundary_loss_value, derivative_loss_value = training_step(model, n_batch, ξ_batch)\n",
    "\n",
    "            pbar.set_postfix({'Boundary Loss': boundary_loss_value,\n",
    "                              'Derivative Loss': derivative_loss_value,\n",
    "                              'ODE Loss': ode_loss_value,\n",
    "                             'learning rate': model.optimizer.param_groups[0]['lr']})\n",
    "\n",
    "            boundary_loss_vec.append(boundary_loss_value)\n",
    "            derivative_loss_vec.append(derivative_loss_value)\n",
    "            ode_loss_vec.append(ode_loss_value)\n",
    "\n",
    "        print(f'Average ODE Loss: {np.mean(ode_loss_vec)}\\nAverage Boundary Loss: {np.mean(boundary_loss_vec)}\\n\\\n",
    "        Average Derivative Loss: {np.mean(derivative_loss_vec)},\\n\\\n",
    "              Average Total Loss: {np.mean(ode_loss_vec) +np.mean(boundary_loss_vec) + np.mean(derivative_loss_vec)}')\n",
    "        pbar.close()\n",
    "\n",
    "        visualize_example(model, operator_dataloader, i)"
   ]
  },
  {
   "cell_type": "markdown",
   "id": "fb707194-2702-4f76-a491-72276e1799fa",
   "metadata": {
    "slideshow": {
     "slide_type": ""
    },
    "tags": []
   },
   "source": [
    "Next, we initialize the generator and model:"
   ]
  },
  {
   "cell_type": "code",
   "execution_count": 153,
   "id": "0c730cb1-ad2f-4490-9e47-2df3300938dc",
   "metadata": {},
   "outputs": [],
   "source": [
    "device = 'cuda' if torch.cuda.is_available() else 'cpu'\n",
    "gen = LaneEmdenGenerator(solver=solveLaneEmden, log_delta_xi=-2, n=3, device=device)\n",
    "\n",
    "## MLP Architecture ##\n",
    "num_neurons = 32\n",
    "num_layers = 8\n",
    "n_dim = ξ_dim = 1\n",
    "\n",
    "device = 'cuda' if torch.cuda.is_available() else 'cpu'\n",
    "\n",
    "branch_layers = [n_dim] + [num_neurons] * num_layers\n",
    "trunk_layers = [ξ_dim] + [num_neurons] * num_layers\n",
    "model = NN_Model(branch_layers, trunk_layers, device = device)"
   ]
  },
  {
   "cell_type": "markdown",
   "id": "b5a970a5-124d-4795-bad0-ff3378e9278e",
   "metadata": {},
   "source": [
    "And finally, we run the `train` function with the previously defined generator of Lane-Emden equations, `gen = LaneEmdenGenerator`."
   ]
  },
  {
   "cell_type": "code",
   "execution_count": 154,
   "id": "d90ffb67-b67c-4560-a621-977106fe4a64",
   "metadata": {
    "scrolled": true
   },
   "outputs": [
    {
     "name": "stdout",
     "output_type": "stream",
     "text": [
      "Iteration 0\n"
     ]
    },
    {
     "data": {
      "application/vnd.jupyter.widget-view+json": {
       "model_id": "2f5c393e7e9d47438719bec61ca80bbf",
       "version_major": 2,
       "version_minor": 0
      },
      "text/plain": [
       "  0%|          | 0/128 [00:00<?, ?it/s]"
      ]
     },
     "metadata": {},
     "output_type": "display_data"
    },
    {
     "name": "stdout",
     "output_type": "stream",
     "text": [
      "Average ODE Loss: 24.122644430177534\n",
      "Average Boundary Loss: 0.2638139855922991\n",
      "        Average Derivative Loss: 0.0010952500281471785,\n",
      "              Average Total Loss: 24.38755366579798\n"
     ]
    },
    {
     "data": {
      "image/png": "[encoded data removed]",
      "text/plain": [
       "<Figure size 500x500 with 1 Axes>"
      ]
     },
     "metadata": {},
     "output_type": "display_data"
    },
    {
     "name": "stdout",
     "output_type": "stream",
     "text": [
      "Iteration 1\n"
     ]
    },
    {
     "data": {
      "application/vnd.jupyter.widget-view+json": {
       "model_id": "414a3af7daae418a9b8ea68369402e85",
       "version_major": 2,
       "version_minor": 0
      },
      "text/plain": [
       "  0%|          | 0/128 [00:00<?, ?it/s]"
      ]
     },
     "metadata": {},
     "output_type": "display_data"
    },
    {
     "name": "stdout",
     "output_type": "stream",
     "text": [
      "Average ODE Loss: 3.7149846265878783\n",
      "Average Boundary Loss: 2.8962180221825727e-06\n",
      "        Average Derivative Loss: 1.2901252987648375e-05,\n",
      "              Average Total Loss: 3.7150004240588883\n"
     ]
    },
    {
     "data": {
      "image/png": "[encoded data removed]",
      "text/plain": [
       "<Figure size 500x500 with 1 Axes>"
      ]
     },
     "metadata": {},
     "output_type": "display_data"
    },
    {
     "name": "stdout",
     "output_type": "stream",
     "text": [
      "Iteration 2\n"
     ]
    },
    {
     "data": {
      "application/vnd.jupyter.widget-view+json": {
       "model_id": "0ada13228e5a4bccac753abf094bc9c1",
       "version_major": 2,
       "version_minor": 0
      },
      "text/plain": [
       "  0%|          | 0/128 [00:00<?, ?it/s]"
      ]
     },
     "metadata": {},
     "output_type": "display_data"
    },
    {
     "name": "stdout",
     "output_type": "stream",
     "text": [
      "Average ODE Loss: 1.52657016930806\n",
      "Average Boundary Loss: 3.904653945646213e-07\n",
      "        Average Derivative Loss: 2.658476285244073e-06,\n",
      "              Average Total Loss: 1.5265732182497398\n"
     ]
    },
    {
     "data": {
      "image/png": "[encoded data removed]",
      "text/plain": [
       "<Figure size 500x500 with 1 Axes>"
      ]
     },
     "metadata": {},
     "output_type": "display_data"
    }
   ],
   "source": [
    "train(model, gen, nIter = 1000)"
   ]
  },
  {
   "cell_type": "markdown",
   "id": "3fae24f9-6aa0-42e9-a474-9084c5c00225",
   "metadata": {
    "slideshow": {
     "slide_type": ""
    },
    "tags": []
   },
   "source": [
    "The PINN may take some time to fully converge, but the following demonstrates the convergence of the PINN to the numerical solution.\n",
    "\n",
    "![](https://raw.githubusercontent.com/mtyhon/astropinn/main/images/laneemden_n3_downsample10.gif)\n",
    "\n",
    "## Other ODEs in Astrophysics\n",
    "\n",
    "Many physical systems in astrophysics (and physics in general) are described by systems of ODEs. The following are several examples\n",
    "\n",
    "### Example 1 - Planetary Motion\n",
    "\n",
    "The [Kepler problem](https://en.wikipedia.org/wiki/Kepler_problem) describes the motion of a secondary body (planet, asteroid, comet, etc.) around a primary body.  In the orbital ($x-y$) plane, the total energy of the of the system is described by its Hamiltonian $H_{\\mathrm{Kepler}}$:\n",
    "\n",
    "$$\n",
    "H_{\\mathrm{Kepler}} = \\frac{1}{2\\mu}(p_x^2+p_y^2)-\\frac{\\mu}{\\sqrt{x^2+y^2}},\n",
    "$$\n",
    "\n",
    "where:\n",
    "- $\\mu = G(m_1+m_2)$ is the gravitational parameter,\n",
    "- $p_x, p_y$ are the canonical momenta,\n",
    "- $(x,y)$ are the relative coordinates of the secondary body.\n",
    "\n",
    "Using Hamilton’s equations, the equations of motion are:\n",
    "\n",
    "$$\n",
    "\\begin{aligned}\n",
    "\\dot{x} &= u, \\\\\n",
    "\\dot{y} &= v, \\\\\n",
    "\\dot{u} &= -\\frac{\\mu x}{(x^2+y^2)^{3/2}}, \\\\\n",
    "\\dot{v} &= -\\frac{\\mu y}{(x^2+y^2)^{3/2}},\n",
    "\\end{aligned}\n",
    "$$\n",
    "\n",
    "Here, $u$ and $v$ are, respectively, the $x$ and $y$ components of the velocity, such that $p_x = \\mu u$ and $p_y = \\mu v$.\n",
    "\n",
    "\n",
    "```{admonition} Exercise: Kepler problem PINN\n",
    ":class: note\n",
    "\n",
    "Write a Python function that computes the **physics loss** for a PINN solving the Kepler problem.  \n",
    "Your function should:\n",
    "1. Take as input the predicted states $(x,y,u,v)$ at collocation points in time.\n",
    "2. Use **batched** automatic differentiation to compute time derivatives $(\\dot{x}, \\dot{y}, \\dot{u}, \\dot{v})$.\n",
    "3. Compute the residuals of the four Kepler ODEs above.\n",
    "4. Return the mean squared residual as the physics loss.\n",
    "\n",
    "```python\n",
    "def kepler_physics_loss(model, t, μ):\n",
    "    \"\"\"\n",
    "    model: neural network predicting [x, y, u, v] as a function of time t. Output is of dimensionality $N\\times 4$\n",
    "    t: tensor of collocation times of dimensionality $N\\times 1$\n",
    "    μ: gravitational parameter\n",
    "    \"\"\"\n",
    "    # 1. Predict states from the model\n",
    "    x, y, u, v = model(t).T\n",
    "    \n",
    "    # 2. Compute time derivatives using torch.func.grad\n",
    "    dx_dt = ...\n",
    "    dy_dt = ...\n",
    "    du_dt = ...\n",
    "    dv_dt = ...\n",
    "    \n",
    "    # 3. Define residuals according to the equations of motion\n",
    "    res_x = ...\n",
    "    res_y = ...\n",
    "    res_u = ...\n",
    "    res_v = ...\n",
    "    \n",
    "    # 4. Return physics loss\n",
    "    loss_phys = ...\n",
    "    return loss_phys\n",
    "\n",
    "```\n",
    "\n",
    "### Example 2 - Friedmann Acceleration Equation\n",
    "\n",
    "For a flat FLRW universe $(k=0)$ containing matter and a cosmological constant $\\Lambda$, the evolution of the universe with time $t$ can be written as $\\tau = H_0 t$ where $H_0$ is the Hubble constant. The universe's expansion can be described by the (dimensionless) **Friedmann acceleration equation**:  \n",
    "\n",
    "$$\n",
    "\\frac{a''(\\tau)}{a(\\tau)} \n",
    "= \\overbrace{-\\frac{1}{2}\\frac{\\Omega_m}{a(\\tau)^3}}^{\\text{Gravitational deceleration from matter}} \\overbrace{+ \\Omega_\\Lambda}^{\\text{Accelerated expansion due to dark energy}},\n",
    "$$\n",
    "\n",
    "which forms the following second-order ODE:\n",
    "\n",
    "$$\n",
    "a''(\\tau)\n",
    "= -\\frac{1}{2}\\frac{\\Omega_m}{a(\\tau)^2} + \\Omega_\\Lambda a(\\tau),\n",
    "$$\n",
    "\n",
    "where primes denote derivatives with respect to $\\tau$. The scale factor $a(\\tau)$ describes **how distances in the universe expand with time** as **first slowing down** (matter-dominated) before being **accelerated** later on (dark energy-dominated). Here, $\\Omega_m$ is the present-day matter density parameter, while $\\Omega_\\Lambda$ is the present-day dark energy density parameter. The boundary conditions for the ODE are the following:\n",
    "\n",
    "   - $a(0) = 0$ (Big Bang),\n",
    "   - $a(\\tau_0) = 1$ (present day),\n",
    "   - optionally $\\,a'(\\tau_0)=1$ (since time is scaled by $H_0^{-1}$).\n",
    "\n",
    "```{admonition} Exercise: The Friedmann Acceleration Equation\n",
    ":class: exercise\n",
    "\n",
    "Implement a physics-informed loss for a PINN that learns the scale factor $a(\\tau)$.\n",
    "Your function should:\n",
    "1. Predict $a(\\tau)$ at collocation points using the neural network.  \n",
    "2. Use **batched** automatic differentiation to compute the second derivative $a''(\\tau)$.  \n",
    "2. Impose boundary conditions from **batched** first derivatives $a'(\\tau)$ and **batched** predictions $a(\\tau)$.\n",
    "3. Form the residuals and return the mean squared residual as the physics loss.\n",
    "\n",
    "```python\n",
    "def friedmann_loss(model, τ, Ωm, ΩΛ, τ0=1.0):\n",
    "\n",
    "    # 1. $a(\\tau)$\n",
    "    a = model(τ).squeeze()\n",
    "\n",
    "    # 2. First and second derivatives\n",
    "    da_dτ = ...\n",
    "    d2a_dτ2 = ...\n",
    "\n",
    "    # 3. Define residuals from physics loss\n",
    "    phys_residual = ...\n",
    "\n",
    "    # 4. Define residuals from boundary conditions loss\n",
    "    a0 = ...\n",
    "    a_today = ...\n",
    "    adot_today = ...\n",
    "    \n",
    "    bc_residual = ...\n",
    "    \n",
    "    # 4. Return loss as combination of residuals\n",
    "    loss = ...\n",
    "\n",
    "    return loss\n",
    "\n"
   ]
  },
  {
   "cell_type": "markdown",
   "id": "57446cb1-d245-46a6-a1cc-7ca5f74159cc",
   "metadata": {
    "slideshow": {
     "slide_type": ""
    },
    "tags": []
   },
   "source": [
    "```{admonition} The Dimensionless Form of the Friedmann Acceleration Equation\n",
    ":class: dropdown\n",
    "\n",
    "The Friedmann acceleration equation in cosmic time is:\n",
    "\n",
    "$$\n",
    "\\frac{\\ddot{a}(t)}{a(t)} \n",
    "= -\\frac{4\\pi G}{3}\\rho_m(t) + \\frac{\\Lambda}{3}.\n",
    "$$\n",
    "\n",
    "Here $a(t)$ is the scale factor, and the present epoch is defined as $t=t_0$, such that $a(t)$ is normalized so that $a(t_0)=1$ today. We note that the Hubble constant is\n",
    "\n",
    "$$\n",
    "H_0 \\;\\equiv\\; \\frac{\\dot{a}(t_0)}{a(t_0)},\n",
    "$$\n",
    "\n",
    "and we define the dimensionless time as $\\tau \\;=\\; H_0\\,t$, such that:\n",
    "\n",
    "$$\n",
    "\\begin{aligned}\n",
    "\\frac{d^2}{dt^2} &= H_0^2 \\frac{d^2}{d\\tau^2}.\n",
    "\\end{aligned}\n",
    "$$\n",
    "\n",
    "Next, we define the critical density:\n",
    "\n",
    "$$\n",
    "\\rho_c \\;=\\; \\frac{3H_0^2}{8\\pi G},\n",
    "$$\n",
    "\n",
    "and density parameters\n",
    "\n",
    "$$\n",
    "\\begin{aligned}\n",
    "\\Omega_m &= \\frac{\\rho_{m,0}}{\\rho_c},\\\\ \n",
    "\\Omega_\\Lambda &= \\frac{\\Lambda}{3H_0^2}.\n",
    "\\end{aligned}\n",
    "$$\n",
    "\n",
    "From energy conservation (the cosmological fluid equation):\n",
    "\n",
    "$$\n",
    "\\dot{\\rho} + 3\\frac{\\dot{a}}{a}(\\rho + p/c^2) = 0,\n",
    "$$\n",
    "\n",
    "where for pressureless matter $(p=0)$:\n",
    "\n",
    "$$\n",
    "\\rho_m(t) = \\rho_{m,0}\\,a(t)^{-3}.\n",
    "$$\n",
    "\n",
    "Substituting the above into the acceleration equation gives:\n",
    "\n",
    "$$\n",
    "\\frac{a''(\\tau)}{a(\\tau)} \n",
    "= -\\frac{1}{2}\\frac{\\Omega_m}{a(\\tau)^3} + \\Omega_\\Lambda,\n",
    "$$\n",
    "\n",
    "where primes denote derivatives with respect to $\\tau$.\n",
    "\n",
    "Because time is scaled by $H_0^{-1}$:\n",
    "\n",
    "- $a(0)=0$ (Big Bang)  \n",
    "- $a(\\tau_0)=1$ (Present day, normalized)  \n",
    "- $a'(\\tau_0)=1$ (Since $\\dot{a}(t_0)=H_0$).  \n",
    "\n",
    "See also: [Lecture Notes on Cosmology](https://people.ast.cam.ac.uk/~pettini/Intro%20Cosmology/Lecture04.pdf)"
   ]
  }
 ],
 "metadata": {
  "kernelspec": {
   "display_name": "Python 3 (ipykernel)",
   "language": "python",
   "name": "python3"
  },
  "language_info": {
   "codemirror_mode": {
    "name": "ipython",
    "version": 3
   },
   "file_extension": ".py",
   "mimetype": "text/x-python",
   "name": "python",
   "nbconvert_exporter": "python",
   "pygments_lexer": "ipython3",
   "version": "3.8.8"
  }
 },
 "nbformat": 4,
 "nbformat_minor": 5
}